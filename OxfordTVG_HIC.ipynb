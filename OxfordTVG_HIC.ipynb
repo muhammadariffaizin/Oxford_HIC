{
  "cells": [
    {
      "cell_type": "markdown",
      "metadata": {
        "id": "hd4RxPecNHnY"
      },
      "source": [
        "# Install Library and Download Data"
      ]
    },
    {
      "cell_type": "code",
      "execution_count": null,
      "metadata": {
        "colab": {
          "base_uri": "https://localhost:8080/"
        },
        "id": "x1kMz4C0iQlx",
        "outputId": "a3255d9b-e904-4536-d75a-bf0df7f6a3e6"
      },
      "outputs": [],
      "source": [
        "# !pip install grequests\n",
        "# !pip install -q condacolab\n",
        "# import condacolab\n",
        "# condacolab.install()"
      ]
    },
    {
      "cell_type": "code",
      "execution_count": null,
      "metadata": {
        "id": "gTpi5iZrjPSZ"
      },
      "outputs": [],
      "source": [
        "# import grequests\n",
        "# import sys\n",
        "# del sys.modules[\"grequests\"]\n",
        "# del grequests\n",
        "# del sys.modules[\"gevent.monkey\"]\n",
        "# import grequests"
      ]
    },
    {
      "cell_type": "code",
      "execution_count": null,
      "metadata": {
        "colab": {
          "base_uri": "https://localhost:8080/"
        },
        "id": "aNLaBHXQsvR-",
        "outputId": "b3ad280c-70b5-4952-a3ab-26f540b146ba"
      },
      "outputs": [],
      "source": [
        "# !git clone https://github.com/muhammadariffaizin/Oxford_HIC.git\n",
        "# %cd /content/Oxford_HIC"
      ]
    },
    {
      "cell_type": "code",
      "execution_count": null,
      "metadata": {
        "colab": {
          "base_uri": "https://localhost:8080/"
        },
        "id": "rztgfZqN2Fen",
        "outputId": "40df1336-7e4b-4ee3-d371-38e6c507b550"
      },
      "outputs": [],
      "source": [
        "# %cd /content/Oxford_HIC/data\n",
        "# %cd ./Oxford_HIC/\n",
        "\n",
        "# download the meta data\n",
        "!gdown https://drive.google.com/drive/folders/1BDuUcMeaWrFD8TwgHLhFPkuAwmoHaVNQ -O ./hic_data --folder\n",
        "\n",
        "#download the images\n",
        "# !python download_img.py --batch_size 10000 --num_workers 30 --save_zip\n",
        "%mkdir /content/Oxford_HIC/data/images\n",
        "!gdown 1rIY15hcmy1DrYgSbdp-77wHvJX1Vtotc -O ./hic_data/images.zip"
      ]
    },
    {
      "cell_type": "code",
      "execution_count": null,
      "metadata": {
        "colab": {
          "base_uri": "https://localhost:8080/"
        },
        "id": "Ch7xqsa62Hhe",
        "outputId": "754d13f7-6752-4f47-abff-a8654c83a491"
      },
      "outputs": [],
      "source": [
        "!unzip ./hic_data/images.zip -d ./hic_data/images/"
      ]
    },
    {
      "cell_type": "markdown",
      "metadata": {
        "id": "fqOOtTnzNOnM"
      },
      "source": [
        "# Preparation"
      ]
    },
    {
      "cell_type": "code",
      "execution_count": null,
      "metadata": {},
      "outputs": [],
      "source": [
        "!cd ./Oxford_HIC/data/"
      ]
    },
    {
      "cell_type": "code",
      "execution_count": null,
      "metadata": {
        "colab": {
          "base_uri": "https://localhost:8080/"
        },
        "id": "INUtTgAcNRsp",
        "outputId": "8f3f6d71-b7b8-4171-85aa-4e96e6dfe25b"
      },
      "outputs": [],
      "source": [
        "!conda init\n",
        "!conda env create -f /home/admin123/OxfordTVG_HIC/clipcap/environment.yml\n",
        "!conda activate oxfordtvg-hic"
      ]
    },
    {
      "cell_type": "code",
      "execution_count": null,
      "metadata": {},
      "outputs": [],
      "source": [
        "!conda config --append channels conda-forge\n",
        "!conda install --name conda-forge nvidia"
      ]
    },
    {
      "cell_type": "markdown",
      "metadata": {
        "id": "zWGG9NDySMWN"
      },
      "source": [
        "# Training"
      ]
    },
    {
      "cell_type": "code",
      "execution_count": null,
      "metadata": {
        "colab": {
          "base_uri": "https://localhost:8080/"
        },
        "id": "Fdt4AnTmhJF7",
        "outputId": "c16f20f6-4a51-4b3d-cfd7-ddc9fd99400a"
      },
      "outputs": [],
      "source": [
        "!ls\n",
        "%mkdir /home/admin123/OxfordTVG_HIC/output_clip\n",
        "# !gdown https://drive.google.com/file/d/1imchVsijbouzoezsVxpqoIYnck7uXi8M/view?usp=sharing -O /content/Oxford_HIC/output/humor_ViT-B_32_single_demo.pkl"
      ]
    },
    {
      "cell_type": "code",
      "execution_count": null,
      "metadata": {
        "colab": {
          "base_uri": "https://localhost:8080/"
        },
        "id": "GomumydGR8dO",
        "outputId": "33b69b30-d1ce-4dc4-c0fe-5dca91a8fc70"
      },
      "outputs": [],
      "source": [
        "%cd /home/admin123/OxfordTVG_HIC/clipcap/\n",
        "# !python parse_humor.py --data_path /content/Oxford_HIC/data/hic_data/ --output_dir /content/Oxford_HIC/output/ --use_cuda\n",
        "!source activate humor && python parse_humor.py --data_loader_path /home/admin123/OxfordTVG_HIC/data/hic_data/oxford_hic_data.csv --output_dir /home/admin123/OxfordTVG_HIC/output_clip --data_path /home/admin123/OxfordTVG_HIC/data/hic_data/images --use_cuda\n",
        "# !source activate humor && python parse_humor.py --data_loader_path /home/admin123/OxfordTVG_HIC/data/hic_data/oxford_hic_data.csv --output_dir /home/admin123/OxfordTVG_HIC/output_clip --data_path /home/admin123/OxfordTVG_HIC/data/hic_data/images"
      ]
    },
    {
      "cell_type": "code",
      "execution_count": null,
      "metadata": {},
      "outputs": [],
      "source": [
        "%mkdir /home/admin123/OxfordTVG_HIC/output_train"
      ]
    },
    {
      "cell_type": "code",
      "execution_count": null,
      "metadata": {},
      "outputs": [],
      "source": [
        "%cd /home/admin123/OxfordTVG_HIC/clipcap/\n",
        "!source activate humor && python -m torch.distributed.run --nproc_per_node=1 train.py --data /home/admin123/OxfordTVG_HIC/output_clip/humor_ViT-B_32_single_demo.pkl --out_dir /home/admin123/OxfordTVG_HIC/output_train --epochs 10 --bs 16 --lr 0.1"
      ]
    }
  ],
  "metadata": {
    "accelerator": "GPU",
    "colab": {
      "gpuType": "T4",
      "provenance": []
    },
    "kernelspec": {
      "display_name": "Python 3",
      "name": "python3"
    },
    "language_info": {
      "codemirror_mode": {
        "name": "ipython",
        "version": 3
      },
      "file_extension": ".py",
      "mimetype": "text/x-python",
      "name": "python",
      "nbconvert_exporter": "python",
      "pygments_lexer": "ipython3",
      "version": "3.10.12"
    }
  },
  "nbformat": 4,
  "nbformat_minor": 0
}
